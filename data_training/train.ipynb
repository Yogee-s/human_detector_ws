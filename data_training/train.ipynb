{
 "cells": [
  {
   "cell_type": "code",
   "execution_count": null,
   "id": "a2ba0137",
   "metadata": {},
   "outputs": [
    {
     "name": "stdout",
     "output_type": "stream",
     "text": [
      "New https://pypi.org/project/ultralytics/8.3.146 available 😃 Update with 'pip install -U ultralytics'\n",
      "Ultralytics 8.3.141 🚀 Python-3.10.12 torch-2.7.0+cu126 CUDA:0 (NVIDIA GeForce MX550, 1864MiB)\n",
      "\u001b[34m\u001b[1mengine/trainer: \u001b[0magnostic_nms=False, amp=False, augment=False, auto_augment=randaugment, batch=4, bgr=0.0, box=7.5, cache=True, cfg=None, classes=None, close_mosaic=10, cls=0.5, conf=None, copy_paste=0.03, copy_paste_mode=flip, cos_lr=False, cutmix=0.0, data=data.yaml, degrees=0.0, deterministic=True, device=0, dfl=1.5, dnn=False, dropout=0.1, dynamic=False, embed=None, epochs=300, erasing=0.4, exist_ok=False, fliplr=0.5, flipud=0.0, format=torchscript, fraction=1.0, freeze=None, half=True, hsv_h=0.015, hsv_s=0.7, hsv_v=0.4, imgsz=640, int8=False, iou=0.7, keras=False, kobj=1.0, line_width=None, lr0=1e-05, lrf=0.01, mask_ratio=4, max_det=300, mixup=0.03, mode=train, model=../src/human_detector/models/yolov11n.pt, momentum=0.937, mosaic=0.2, multi_scale=False, name=yolov11n_v1_ep300_img640_bs4_lr1e-05_lrf0.01_Adam_augmented_20250528_2232, nbs=64, nms=False, opset=None, optimize=False, optimizer=Adam, overlap_mask=True, patience=10, perspective=0.001, plots=True, pose=12.0, pretrained=True, profile=False, project=results, rect=True, resume=False, retina_masks=False, save=True, save_conf=False, save_crop=False, save_dir=results/yolov11n_v1_ep300_img640_bs4_lr1e-05_lrf0.01_Adam_augmented_20250528_2232, save_frames=False, save_json=False, save_period=-1, save_txt=False, scale=0.1, seed=42, shear=0.0, show=False, show_boxes=True, show_conf=True, show_labels=True, simplify=True, single_cls=False, source=None, split=val, stream_buffer=False, task=detect, time=None, tracker=botsort.yaml, translate=0.05, val=True, verbose=True, vid_stride=1, visualize=False, warmup_bias_lr=0.1, warmup_epochs=3.0, warmup_momentum=0.8, weight_decay=0.0005, workers=2, workspace=None\n",
      "Overriding model.yaml nc=80 with nc=2\n",
      "\n",
      "                   from  n    params  module                                       arguments                     \n",
      "  0                  -1  1       464  ultralytics.nn.modules.conv.Conv             [3, 16, 3, 2]                 \n",
      "  1                  -1  1      4672  ultralytics.nn.modules.conv.Conv             [16, 32, 3, 2]                \n",
      "  2                  -1  1      6640  ultralytics.nn.modules.block.C3k2            [32, 64, 1, False, 0.25]      \n",
      "  3                  -1  1     36992  ultralytics.nn.modules.conv.Conv             [64, 64, 3, 2]                \n",
      "  4                  -1  1     26080  ultralytics.nn.modules.block.C3k2            [64, 128, 1, False, 0.25]     \n",
      "  5                  -1  1    147712  ultralytics.nn.modules.conv.Conv             [128, 128, 3, 2]              \n",
      "  6                  -1  1     87040  ultralytics.nn.modules.block.C3k2            [128, 128, 1, True]           \n",
      "  7                  -1  1    295424  ultralytics.nn.modules.conv.Conv             [128, 256, 3, 2]              \n",
      "  8                  -1  1    346112  ultralytics.nn.modules.block.C3k2            [256, 256, 1, True]           \n",
      "  9                  -1  1    164608  ultralytics.nn.modules.block.SPPF            [256, 256, 5]                 \n",
      " 10                  -1  1    249728  ultralytics.nn.modules.block.C2PSA           [256, 256, 1]                 \n",
      " 11                  -1  1         0  torch.nn.modules.upsampling.Upsample         [None, 2, 'nearest']          \n",
      " 12             [-1, 6]  1         0  ultralytics.nn.modules.conv.Concat           [1]                           \n",
      " 13                  -1  1    111296  ultralytics.nn.modules.block.C3k2            [384, 128, 1, False]          \n",
      " 14                  -1  1         0  torch.nn.modules.upsampling.Upsample         [None, 2, 'nearest']          \n",
      " 15             [-1, 4]  1         0  ultralytics.nn.modules.conv.Concat           [1]                           \n",
      " 16                  -1  1     32096  ultralytics.nn.modules.block.C3k2            [256, 64, 1, False]           \n",
      " 17                  -1  1     36992  ultralytics.nn.modules.conv.Conv             [64, 64, 3, 2]                \n",
      " 18            [-1, 13]  1         0  ultralytics.nn.modules.conv.Concat           [1]                           \n",
      " 19                  -1  1     86720  ultralytics.nn.modules.block.C3k2            [192, 128, 1, False]          \n",
      " 20                  -1  1    147712  ultralytics.nn.modules.conv.Conv             [128, 128, 3, 2]              \n",
      " 21            [-1, 10]  1         0  ultralytics.nn.modules.conv.Concat           [1]                           \n",
      " 22                  -1  1    378880  ultralytics.nn.modules.block.C3k2            [384, 256, 1, True]           \n",
      " 23        [16, 19, 22]  1    431062  ultralytics.nn.modules.head.Detect           [2, [64, 128, 256]]           \n",
      "YOLO11n summary: 181 layers, 2,590,230 parameters, 2,590,214 gradients, 6.4 GFLOPs\n",
      "\n",
      "Transferred 448/499 items from pretrained weights\n",
      "Freezing layer 'model.23.dfl.conv.weight'\n",
      "\u001b[34m\u001b[1mtrain: \u001b[0mFast image access ✅ (ping: 0.0±0.0 ms, read: 349.6±204.9 MB/s, size: 278.5 KB)\n"
     ]
    },
    {
     "name": "stderr",
     "output_type": "stream",
     "text": [
      "\u001b[34m\u001b[1mtrain: \u001b[0mScanning /home/yogee/Desktop/human_detector_ws/data_training/data_person/train/labels.cache... 4044 images, 23 backgrounds, 0 corrupt: 100%|██████████| 4044/4044 [00:00<?, ?it/s]\n"
     ]
    },
    {
     "name": "stdout",
     "output_type": "stream",
     "text": [
      "WARNING ⚠️ cache='ram' may produce non-deterministic training results. Consider cache='disk' as a deterministic alternative if your disk space allows.\n"
     ]
    },
    {
     "name": "stderr",
     "output_type": "stream",
     "text": [
      "\u001b[34m\u001b[1mtrain: \u001b[0mCaching images (3.3GB RAM): 100%|██████████| 4044/4044 [00:12<00:00, 320.04it/s] "
     ]
    },
    {
     "name": "stdout",
     "output_type": "stream",
     "text": [
      "WARNING ⚠️ 'rect=True' is incompatible with DataLoader shuffle, setting shuffle=False\n"
     ]
    },
    {
     "name": "stderr",
     "output_type": "stream",
     "text": [
      "\n"
     ]
    },
    {
     "name": "stdout",
     "output_type": "stream",
     "text": [
      "\u001b[34m\u001b[1mval: \u001b[0mFast image access ✅ (ping: 0.0±0.0 ms, read: 317.9±125.2 MB/s, size: 448.1 KB)\n"
     ]
    },
    {
     "name": "stderr",
     "output_type": "stream",
     "text": [
      "\u001b[34m\u001b[1mval: \u001b[0mScanning /home/yogee/Desktop/human_detector_ws/data_training/data_person/test/labels.cache... 1720 images, 44 backgrounds, 0 corrupt: 100%|██████████| 1720/1720 [00:00<?, ?it/s]\n"
     ]
    },
    {
     "name": "stdout",
     "output_type": "stream",
     "text": [
      "WARNING ⚠️ cache='ram' may produce non-deterministic training results. Consider cache='disk' as a deterministic alternative if your disk space allows.\n"
     ]
    },
    {
     "name": "stderr",
     "output_type": "stream",
     "text": [
      "\u001b[34m\u001b[1mval: \u001b[0mCaching images (1.4GB RAM): 100%|██████████| 1720/1720 [00:07<00:00, 239.86it/s]\n"
     ]
    },
    {
     "name": "stdout",
     "output_type": "stream",
     "text": [
      "Plotting labels to results/yolov11n_v1_ep300_img640_bs4_lr1e-05_lrf0.01_Adam_augmented_20250528_2232/labels.jpg... \n",
      "\u001b[34m\u001b[1moptimizer:\u001b[0m Adam(lr=1e-05, momentum=0.937) with parameter groups 81 weight(decay=0.0), 88 weight(decay=0.0005), 87 bias(decay=0.0)\n",
      "Image sizes 640 train, 640 val\n",
      "Using 2 dataloader workers\n",
      "Logging results to \u001b[1mresults/yolov11n_v1_ep300_img640_bs4_lr1e-05_lrf0.01_Adam_augmented_20250528_2232\u001b[0m\n",
      "Starting training for 300 epochs...\n",
      "\n",
      "      Epoch    GPU_mem   box_loss   cls_loss   dfl_loss  Instances       Size\n"
     ]
    },
    {
     "name": "stderr",
     "output_type": "stream",
     "text": [
      "      1/300     0.715G       1.42      1.794       1.56         19        384: 100%|██████████| 1011/1011 [02:45<00:00,  6.09it/s]\n",
      "                 Class     Images  Instances      Box(P          R      mAP50  mAP50-95): 100%|██████████| 215/215 [00:22<00:00,  9.73it/s]\n"
     ]
    },
    {
     "name": "stdout",
     "output_type": "stream",
     "text": [
      "                   all       1720       3999      0.405      0.543      0.452      0.234\n",
      "\n",
      "      Epoch    GPU_mem   box_loss   cls_loss   dfl_loss  Instances       Size\n"
     ]
    },
    {
     "name": "stderr",
     "output_type": "stream",
     "text": [
      "      2/300      1.67G      1.356      1.809      1.509         18        384: 100%|██████████| 1011/1011 [02:50<00:00,  5.93it/s]\n",
      "                 Class     Images  Instances      Box(P          R      mAP50  mAP50-95): 100%|██████████| 215/215 [00:21<00:00,  9.97it/s]\n"
     ]
    },
    {
     "name": "stdout",
     "output_type": "stream",
     "text": [
      "                   all       1720       3999       0.72      0.544      0.622      0.388\n",
      "\n",
      "      Epoch    GPU_mem   box_loss   cls_loss   dfl_loss  Instances       Size\n"
     ]
    },
    {
     "name": "stderr",
     "output_type": "stream",
     "text": [
      "      3/300      1.58G      1.277      1.756      1.463         19        384: 100%|██████████| 1011/1011 [02:49<00:00,  5.95it/s]\n",
      "                 Class     Images  Instances      Box(P          R      mAP50  mAP50-95): 100%|██████████| 215/215 [00:21<00:00,  9.90it/s]\n"
     ]
    },
    {
     "name": "stdout",
     "output_type": "stream",
     "text": [
      "                   all       1720       3999      0.627      0.616      0.699      0.495\n",
      "\n",
      "      Epoch    GPU_mem   box_loss   cls_loss   dfl_loss  Instances       Size\n"
     ]
    },
    {
     "name": "stderr",
     "output_type": "stream",
     "text": [
      "      4/300      1.58G      1.172      1.509      1.384         19        384: 100%|██████████| 1011/1011 [02:49<00:00,  5.95it/s]\n",
      "                 Class     Images  Instances      Box(P          R      mAP50  mAP50-95): 100%|██████████| 215/215 [00:21<00:00, 10.00it/s]\n"
     ]
    },
    {
     "name": "stdout",
     "output_type": "stream",
     "text": [
      "                   all       1720       3999      0.781      0.606      0.725      0.513\n",
      "\n",
      "      Epoch    GPU_mem   box_loss   cls_loss   dfl_loss  Instances       Size\n"
     ]
    },
    {
     "name": "stderr",
     "output_type": "stream",
     "text": [
      "      5/300      1.58G       1.12      1.418      1.347         19        384: 100%|██████████| 1011/1011 [02:49<00:00,  5.97it/s]\n",
      "                 Class     Images  Instances      Box(P          R      mAP50  mAP50-95): 100%|██████████| 215/215 [00:21<00:00,  9.97it/s]\n"
     ]
    },
    {
     "name": "stdout",
     "output_type": "stream",
     "text": [
      "                   all       1720       3999      0.803       0.63      0.747      0.532\n",
      "\n",
      "      Epoch    GPU_mem   box_loss   cls_loss   dfl_loss  Instances       Size\n"
     ]
    },
    {
     "name": "stderr",
     "output_type": "stream",
     "text": [
      "      6/300      1.58G      1.101      1.356       1.33         19        384: 100%|██████████| 1011/1011 [02:49<00:00,  5.97it/s]\n",
      "                 Class     Images  Instances      Box(P          R      mAP50  mAP50-95): 100%|██████████| 215/215 [00:21<00:00, 10.13it/s]\n"
     ]
    },
    {
     "name": "stdout",
     "output_type": "stream",
     "text": [
      "                   all       1720       3999      0.835      0.633       0.76      0.529\n",
      "\n",
      "      Epoch    GPU_mem   box_loss   cls_loss   dfl_loss  Instances       Size\n"
     ]
    },
    {
     "name": "stderr",
     "output_type": "stream",
     "text": [
      "      7/300      1.66G      1.076      1.309      1.309         18        384: 100%|██████████| 1011/1011 [02:48<00:00,  5.98it/s]\n",
      "                 Class     Images  Instances      Box(P          R      mAP50  mAP50-95): 100%|██████████| 215/215 [00:21<00:00, 10.02it/s]\n"
     ]
    },
    {
     "name": "stdout",
     "output_type": "stream",
     "text": [
      "                   all       1720       3999      0.837      0.653       0.77      0.543\n",
      "\n",
      "      Epoch    GPU_mem   box_loss   cls_loss   dfl_loss  Instances       Size\n"
     ]
    },
    {
     "name": "stderr",
     "output_type": "stream",
     "text": [
      "      8/300      1.57G      1.053      1.269      1.292         19        384: 100%|██████████| 1011/1011 [02:49<00:00,  5.97it/s]\n",
      "                 Class     Images  Instances      Box(P          R      mAP50  mAP50-95): 100%|██████████| 215/215 [00:21<00:00, 10.04it/s]\n"
     ]
    },
    {
     "name": "stdout",
     "output_type": "stream",
     "text": [
      "                   all       1720       3999      0.845      0.663      0.778      0.547\n",
      "\n",
      "      Epoch    GPU_mem   box_loss   cls_loss   dfl_loss  Instances       Size\n"
     ]
    },
    {
     "name": "stderr",
     "output_type": "stream",
     "text": [
      "      9/300      1.66G      1.043      1.241      1.283         19        384: 100%|██████████| 1011/1011 [02:48<00:00,  5.99it/s]\n",
      "                 Class     Images  Instances      Box(P          R      mAP50  mAP50-95): 100%|██████████| 215/215 [00:21<00:00, 10.09it/s]\n"
     ]
    },
    {
     "name": "stdout",
     "output_type": "stream",
     "text": [
      "                   all       1720       3999      0.847      0.669      0.787      0.551\n",
      "\n",
      "      Epoch    GPU_mem   box_loss   cls_loss   dfl_loss  Instances       Size\n"
     ]
    },
    {
     "name": "stderr",
     "output_type": "stream",
     "text": [
      "     10/300      1.58G      1.027      1.212      1.274         19        384: 100%|██████████| 1011/1011 [03:13<00:00,  5.23it/s]\n",
      "                 Class     Images  Instances      Box(P          R      mAP50  mAP50-95): 100%|██████████| 215/215 [00:21<00:00,  9.92it/s]\n"
     ]
    },
    {
     "name": "stdout",
     "output_type": "stream",
     "text": [
      "                   all       1720       3999      0.853      0.679      0.795      0.554\n",
      "\n",
      "      Epoch    GPU_mem   box_loss   cls_loss   dfl_loss  Instances       Size\n"
     ]
    },
    {
     "name": "stderr",
     "output_type": "stream",
     "text": [
      "     11/300      1.58G      1.018      1.191      1.263         19        384: 100%|██████████| 1011/1011 [02:49<00:00,  5.97it/s]\n",
      "                 Class     Images  Instances      Box(P          R      mAP50  mAP50-95): 100%|██████████| 215/215 [00:21<00:00,  9.97it/s]\n"
     ]
    },
    {
     "name": "stdout",
     "output_type": "stream",
     "text": [
      "                   all       1720       3999      0.857      0.683      0.802      0.572\n",
      "\n",
      "      Epoch    GPU_mem   box_loss   cls_loss   dfl_loss  Instances       Size\n"
     ]
    },
    {
     "name": "stderr",
     "output_type": "stream",
     "text": [
      "     12/300      1.58G      1.003      1.163      1.254         19        384: 100%|██████████| 1011/1011 [02:49<00:00,  5.98it/s]\n",
      "                 Class     Images  Instances      Box(P          R      mAP50  mAP50-95): 100%|██████████| 215/215 [00:21<00:00,  9.94it/s]\n"
     ]
    },
    {
     "name": "stdout",
     "output_type": "stream",
     "text": [
      "                   all       1720       3999       0.85        0.7       0.81      0.561\n",
      "\n",
      "      Epoch    GPU_mem   box_loss   cls_loss   dfl_loss  Instances       Size\n"
     ]
    },
    {
     "name": "stderr",
     "output_type": "stream",
     "text": [
      "     13/300      1.66G     0.9917      1.143      1.244         19        384: 100%|██████████| 1011/1011 [02:48<00:00,  5.98it/s]\n",
      "                 Class     Images  Instances      Box(P          R      mAP50  mAP50-95): 100%|██████████| 215/215 [00:21<00:00,  9.91it/s]\n"
     ]
    },
    {
     "name": "stdout",
     "output_type": "stream",
     "text": [
      "                   all       1720       3999      0.854      0.697      0.816      0.574\n",
      "\n",
      "      Epoch    GPU_mem   box_loss   cls_loss   dfl_loss  Instances       Size\n"
     ]
    },
    {
     "name": "stderr",
     "output_type": "stream",
     "text": [
      "     14/300      1.66G     0.9794      1.116      1.239         19        384: 100%|██████████| 1011/1011 [02:48<00:00,  5.99it/s]\n",
      "                 Class     Images  Instances      Box(P          R      mAP50  mAP50-95): 100%|██████████| 215/215 [00:21<00:00, 10.03it/s]\n"
     ]
    },
    {
     "name": "stdout",
     "output_type": "stream",
     "text": [
      "                   all       1720       3999      0.847      0.708       0.82      0.561\n",
      "\n",
      "      Epoch    GPU_mem   box_loss   cls_loss   dfl_loss  Instances       Size\n"
     ]
    },
    {
     "name": "stderr",
     "output_type": "stream",
     "text": [
      "     15/300      1.66G     0.9674      1.099      1.229         19        384: 100%|██████████| 1011/1011 [02:49<00:00,  5.97it/s]\n",
      "                 Class     Images  Instances      Box(P          R      mAP50  mAP50-95): 100%|██████████| 215/215 [00:21<00:00,  9.90it/s]\n"
     ]
    },
    {
     "name": "stdout",
     "output_type": "stream",
     "text": [
      "                   all       1720       3999      0.847      0.722      0.823      0.587\n",
      "\n",
      "      Epoch    GPU_mem   box_loss   cls_loss   dfl_loss  Instances       Size\n"
     ]
    },
    {
     "name": "stderr",
     "output_type": "stream",
     "text": [
      "     16/300      1.57G     0.9567      1.082      1.229         19        384: 100%|██████████| 1011/1011 [02:49<00:00,  5.97it/s]\n",
      "                 Class     Images  Instances      Box(P          R      mAP50  mAP50-95): 100%|██████████| 215/215 [00:21<00:00,  9.93it/s]\n"
     ]
    },
    {
     "name": "stdout",
     "output_type": "stream",
     "text": [
      "                   all       1720       3999      0.842      0.743       0.83      0.591\n",
      "\n",
      "      Epoch    GPU_mem   box_loss   cls_loss   dfl_loss  Instances       Size\n"
     ]
    },
    {
     "name": "stderr",
     "output_type": "stream",
     "text": [
      "     17/300      1.66G     0.9593       1.07       1.22         19        384: 100%|██████████| 1011/1011 [02:49<00:00,  5.97it/s]\n",
      "                 Class     Images  Instances      Box(P          R      mAP50  mAP50-95): 100%|██████████| 215/215 [00:21<00:00,  9.93it/s]\n"
     ]
    },
    {
     "name": "stdout",
     "output_type": "stream",
     "text": [
      "                   all       1720       3999      0.869      0.739      0.835       0.58\n",
      "\n",
      "      Epoch    GPU_mem   box_loss   cls_loss   dfl_loss  Instances       Size\n"
     ]
    },
    {
     "name": "stderr",
     "output_type": "stream",
     "text": [
      "     18/300      1.66G     0.9461      1.049       1.21         19        384: 100%|██████████| 1011/1011 [02:49<00:00,  5.98it/s]\n",
      "                 Class     Images  Instances      Box(P          R      mAP50  mAP50-95): 100%|██████████| 215/215 [00:21<00:00,  9.94it/s]\n"
     ]
    },
    {
     "name": "stdout",
     "output_type": "stream",
     "text": [
      "                   all       1720       3999       0.86      0.753      0.839      0.579\n",
      "\n",
      "      Epoch    GPU_mem   box_loss   cls_loss   dfl_loss  Instances       Size\n"
     ]
    },
    {
     "name": "stderr",
     "output_type": "stream",
     "text": [
      "     19/300      1.57G     0.9374      1.038      1.207         19        384: 100%|██████████| 1011/1011 [02:49<00:00,  5.97it/s]\n",
      "                 Class     Images  Instances      Box(P          R      mAP50  mAP50-95): 100%|██████████| 215/215 [00:21<00:00,  9.94it/s]\n"
     ]
    },
    {
     "name": "stdout",
     "output_type": "stream",
     "text": [
      "                   all       1720       3999      0.858      0.761      0.841      0.599\n",
      "\n",
      "      Epoch    GPU_mem   box_loss   cls_loss   dfl_loss  Instances       Size\n"
     ]
    },
    {
     "name": "stderr",
     "output_type": "stream",
     "text": [
      "     20/300      1.58G      0.936      1.021      1.209         19        384: 100%|██████████| 1011/1011 [02:49<00:00,  5.96it/s]\n",
      "                 Class     Images  Instances      Box(P          R      mAP50  mAP50-95): 100%|██████████| 215/215 [00:21<00:00, 10.09it/s]\n"
     ]
    },
    {
     "name": "stdout",
     "output_type": "stream",
     "text": [
      "                   all       1720       3999      0.883      0.766      0.849       0.59\n",
      "\n",
      "      Epoch    GPU_mem   box_loss   cls_loss   dfl_loss  Instances       Size\n"
     ]
    },
    {
     "name": "stderr",
     "output_type": "stream",
     "text": [
      "     21/300      1.58G     0.9364      1.013      1.208         19        384: 100%|██████████| 1011/1011 [02:48<00:00,  6.01it/s]\n",
      "                 Class     Images  Instances      Box(P          R      mAP50  mAP50-95): 100%|██████████| 215/215 [00:21<00:00, 10.14it/s]\n"
     ]
    },
    {
     "name": "stdout",
     "output_type": "stream",
     "text": [
      "                   all       1720       3999      0.868      0.775      0.851      0.582\n",
      "\n",
      "      Epoch    GPU_mem   box_loss   cls_loss   dfl_loss  Instances       Size\n"
     ]
    },
    {
     "name": "stderr",
     "output_type": "stream",
     "text": [
      "     22/300      1.58G      0.915     0.9978      1.195         19        384: 100%|██████████| 1011/1011 [02:47<00:00,  6.03it/s]\n",
      "                 Class     Images  Instances      Box(P          R      mAP50  mAP50-95): 100%|██████████| 215/215 [00:21<00:00, 10.09it/s]\n"
     ]
    },
    {
     "name": "stdout",
     "output_type": "stream",
     "text": [
      "                   all       1720       3999      0.877      0.783      0.856      0.597\n",
      "\n",
      "      Epoch    GPU_mem   box_loss   cls_loss   dfl_loss  Instances       Size\n"
     ]
    },
    {
     "name": "stderr",
     "output_type": "stream",
     "text": [
      "     23/300      1.66G     0.9211     0.9893      1.197         19        384: 100%|██████████| 1011/1011 [02:48<00:00,  6.01it/s]\n",
      "                 Class     Images  Instances      Box(P          R      mAP50  mAP50-95): 100%|██████████| 215/215 [00:21<00:00, 10.11it/s]\n"
     ]
    },
    {
     "name": "stdout",
     "output_type": "stream",
     "text": [
      "                   all       1720       3999      0.881      0.785      0.858        0.6\n",
      "\n",
      "      Epoch    GPU_mem   box_loss   cls_loss   dfl_loss  Instances       Size\n"
     ]
    },
    {
     "name": "stderr",
     "output_type": "stream",
     "text": [
      "     24/300      1.57G     0.9071      0.974      1.189         19        384: 100%|██████████| 1011/1011 [02:48<00:00,  6.00it/s]\n",
      "                 Class     Images  Instances      Box(P          R      mAP50  mAP50-95): 100%|██████████| 215/215 [00:21<00:00, 10.09it/s]\n"
     ]
    },
    {
     "name": "stdout",
     "output_type": "stream",
     "text": [
      "                   all       1720       3999      0.875       0.79       0.86      0.613\n",
      "\n",
      "      Epoch    GPU_mem   box_loss   cls_loss   dfl_loss  Instances       Size\n"
     ]
    },
    {
     "name": "stderr",
     "output_type": "stream",
     "text": [
      "     25/300      1.66G     0.9099     0.9564      1.191         19        384: 100%|██████████| 1011/1011 [02:48<00:00,  6.00it/s]\n",
      "                 Class     Images  Instances      Box(P          R      mAP50  mAP50-95): 100%|██████████| 215/215 [00:21<00:00, 10.10it/s]\n"
     ]
    },
    {
     "name": "stdout",
     "output_type": "stream",
     "text": [
      "                   all       1720       3999      0.883      0.796      0.864      0.619\n",
      "\n",
      "      Epoch    GPU_mem   box_loss   cls_loss   dfl_loss  Instances       Size\n"
     ]
    },
    {
     "name": "stderr",
     "output_type": "stream",
     "text": [
      "     26/300      1.66G     0.9035     0.9491      1.185         19        384: 100%|██████████| 1011/1011 [02:47<00:00,  6.02it/s]\n",
      "                 Class     Images  Instances      Box(P          R      mAP50  mAP50-95): 100%|██████████| 215/215 [00:21<00:00, 10.15it/s]\n"
     ]
    },
    {
     "name": "stdout",
     "output_type": "stream",
     "text": [
      "                   all       1720       3999       0.88      0.801      0.866      0.595\n",
      "\n",
      "      Epoch    GPU_mem   box_loss   cls_loss   dfl_loss  Instances       Size\n"
     ]
    },
    {
     "name": "stderr",
     "output_type": "stream",
     "text": [
      "     27/300      1.57G     0.8974     0.9372      1.179         19        384: 100%|██████████| 1011/1011 [02:48<00:00,  6.01it/s]\n",
      "                 Class     Images  Instances      Box(P          R      mAP50  mAP50-95): 100%|██████████| 215/215 [00:20<00:00, 10.25it/s]\n"
     ]
    },
    {
     "name": "stdout",
     "output_type": "stream",
     "text": [
      "                   all       1720       3999       0.87      0.806      0.863      0.598\n",
      "\n",
      "      Epoch    GPU_mem   box_loss   cls_loss   dfl_loss  Instances       Size\n"
     ]
    },
    {
     "name": "stderr",
     "output_type": "stream",
     "text": [
      "     28/300      1.66G      0.895     0.9263      1.176         19        384: 100%|██████████| 1011/1011 [02:48<00:00,  6.01it/s]\n",
      "                 Class     Images  Instances      Box(P          R      mAP50  mAP50-95): 100%|██████████| 215/215 [00:21<00:00, 10.20it/s]\n"
     ]
    },
    {
     "name": "stdout",
     "output_type": "stream",
     "text": [
      "                   all       1720       3999      0.865      0.813      0.868      0.593\n",
      "\n",
      "      Epoch    GPU_mem   box_loss   cls_loss   dfl_loss  Instances       Size\n"
     ]
    },
    {
     "name": "stderr",
     "output_type": "stream",
     "text": [
      "     29/300      1.57G     0.8896     0.9177      1.171         19        384: 100%|██████████| 1011/1011 [02:48<00:00,  6.00it/s]\n",
      "                 Class     Images  Instances      Box(P          R      mAP50  mAP50-95): 100%|██████████| 215/215 [00:21<00:00, 10.14it/s]\n"
     ]
    },
    {
     "name": "stdout",
     "output_type": "stream",
     "text": [
      "                   all       1720       3999      0.877      0.813      0.872      0.597\n",
      "\n",
      "      Epoch    GPU_mem   box_loss   cls_loss   dfl_loss  Instances       Size\n"
     ]
    },
    {
     "name": "stderr",
     "output_type": "stream",
     "text": [
      "     30/300      1.58G     0.8945     0.9124      1.174         19        384: 100%|██████████| 1011/1011 [02:48<00:00,  6.01it/s]\n",
      "                 Class     Images  Instances      Box(P          R      mAP50  mAP50-95): 100%|██████████| 215/215 [00:21<00:00, 10.15it/s]\n"
     ]
    },
    {
     "name": "stdout",
     "output_type": "stream",
     "text": [
      "                   all       1720       3999      0.881      0.816      0.873      0.626\n",
      "\n",
      "      Epoch    GPU_mem   box_loss   cls_loss   dfl_loss  Instances       Size\n"
     ]
    },
    {
     "name": "stderr",
     "output_type": "stream",
     "text": [
      "     31/300      1.58G     0.8773      0.898       1.16         19        384: 100%|██████████| 1011/1011 [02:48<00:00,  6.02it/s]\n",
      "                 Class     Images  Instances      Box(P          R      mAP50  mAP50-95): 100%|██████████| 215/215 [00:21<00:00, 10.22it/s]\n"
     ]
    },
    {
     "name": "stdout",
     "output_type": "stream",
     "text": [
      "                   all       1720       3999      0.892      0.811      0.874      0.626\n",
      "\n",
      "      Epoch    GPU_mem   box_loss   cls_loss   dfl_loss  Instances       Size\n"
     ]
    },
    {
     "name": "stderr",
     "output_type": "stream",
     "text": [
      "     32/300      1.58G     0.8742     0.8903      1.164         19        384: 100%|██████████| 1011/1011 [02:48<00:00,  6.02it/s]\n",
      "                 Class     Images  Instances      Box(P          R      mAP50  mAP50-95): 100%|██████████| 215/215 [00:21<00:00, 10.15it/s]\n"
     ]
    },
    {
     "name": "stdout",
     "output_type": "stream",
     "text": [
      "                   all       1720       3999      0.892      0.814      0.874      0.614\n",
      "\n",
      "      Epoch    GPU_mem   box_loss   cls_loss   dfl_loss  Instances       Size\n"
     ]
    },
    {
     "name": "stderr",
     "output_type": "stream",
     "text": [
      "     33/300      1.66G     0.8697      0.884      1.154         19        384: 100%|██████████| 1011/1011 [02:47<00:00,  6.02it/s]\n",
      "                 Class     Images  Instances      Box(P          R      mAP50  mAP50-95): 100%|██████████| 215/215 [00:21<00:00, 10.13it/s]\n"
     ]
    },
    {
     "name": "stdout",
     "output_type": "stream",
     "text": [
      "                   all       1720       3999      0.894      0.815      0.876      0.613\n",
      "\n",
      "      Epoch    GPU_mem   box_loss   cls_loss   dfl_loss  Instances       Size\n"
     ]
    },
    {
     "name": "stderr",
     "output_type": "stream",
     "text": [
      "     34/300      1.57G     0.8703     0.8716      1.158         19        384: 100%|██████████| 1011/1011 [02:48<00:00,  6.01it/s]\n",
      "                 Class     Images  Instances      Box(P          R      mAP50  mAP50-95): 100%|██████████| 215/215 [00:21<00:00, 10.17it/s]\n"
     ]
    },
    {
     "name": "stdout",
     "output_type": "stream",
     "text": [
      "                   all       1720       3999      0.889      0.819      0.877      0.604\n",
      "\n",
      "      Epoch    GPU_mem   box_loss   cls_loss   dfl_loss  Instances       Size\n"
     ]
    },
    {
     "name": "stderr",
     "output_type": "stream",
     "text": [
      "     35/300      1.66G     0.8646     0.8658      1.152         19        384: 100%|██████████| 1011/1011 [02:47<00:00,  6.02it/s]\n",
      "                 Class     Images  Instances      Box(P          R      mAP50  mAP50-95): 100%|██████████| 215/215 [00:21<00:00, 10.20it/s]\n"
     ]
    },
    {
     "name": "stdout",
     "output_type": "stream",
     "text": [
      "                   all       1720       3999      0.895      0.818      0.878        0.6\n",
      "\n",
      "      Epoch    GPU_mem   box_loss   cls_loss   dfl_loss  Instances       Size\n"
     ]
    },
    {
     "name": "stderr",
     "output_type": "stream",
     "text": [
      "     36/300      1.58G     0.8736     0.8624      1.153         19        384: 100%|██████████| 1011/1011 [02:48<00:00,  6.01it/s]\n",
      "                 Class     Images  Instances      Box(P          R      mAP50  mAP50-95): 100%|██████████| 215/215 [00:21<00:00, 10.18it/s]\n"
     ]
    },
    {
     "name": "stdout",
     "output_type": "stream",
     "text": [
      "                   all       1720       3999      0.896      0.815      0.878      0.635\n",
      "\n",
      "      Epoch    GPU_mem   box_loss   cls_loss   dfl_loss  Instances       Size\n"
     ]
    },
    {
     "name": "stderr",
     "output_type": "stream",
     "text": [
      "     37/300      1.66G     0.8512     0.8536      1.146         19        384: 100%|██████████| 1011/1011 [02:48<00:00,  6.01it/s]\n",
      "                 Class     Images  Instances      Box(P          R      mAP50  mAP50-95): 100%|██████████| 215/215 [00:21<00:00, 10.16it/s]\n"
     ]
    },
    {
     "name": "stdout",
     "output_type": "stream",
     "text": [
      "                   all       1720       3999      0.895      0.824       0.88      0.641\n",
      "\n",
      "      Epoch    GPU_mem   box_loss   cls_loss   dfl_loss  Instances       Size\n"
     ]
    },
    {
     "name": "stderr",
     "output_type": "stream",
     "text": [
      "     38/300      1.57G     0.8429     0.8391      1.144         19        384: 100%|██████████| 1011/1011 [02:48<00:00,  6.01it/s]\n",
      "                 Class     Images  Instances      Box(P          R      mAP50  mAP50-95): 100%|██████████| 215/215 [00:21<00:00, 10.17it/s]\n"
     ]
    },
    {
     "name": "stdout",
     "output_type": "stream",
     "text": [
      "                   all       1720       3999      0.897      0.822      0.883      0.641\n",
      "\n",
      "      Epoch    GPU_mem   box_loss   cls_loss   dfl_loss  Instances       Size\n"
     ]
    },
    {
     "name": "stderr",
     "output_type": "stream",
     "text": [
      "     39/300      1.66G     0.8409     0.8347      1.141         19        384: 100%|██████████| 1011/1011 [02:48<00:00,  5.99it/s]\n",
      "                 Class     Images  Instances      Box(P          R      mAP50  mAP50-95): 100%|██████████| 215/215 [00:21<00:00, 10.18it/s]\n"
     ]
    },
    {
     "name": "stdout",
     "output_type": "stream",
     "text": [
      "                   all       1720       3999      0.899      0.825      0.883      0.629\n",
      "\n",
      "      Epoch    GPU_mem   box_loss   cls_loss   dfl_loss  Instances       Size\n"
     ]
    },
    {
     "name": "stderr",
     "output_type": "stream",
     "text": [
      "     40/300      1.57G     0.8315     0.8304      1.136         19        384: 100%|██████████| 1011/1011 [02:48<00:00,  5.99it/s]\n",
      "                 Class     Images  Instances      Box(P          R      mAP50  mAP50-95): 100%|██████████| 215/215 [00:21<00:00, 10.14it/s]\n"
     ]
    },
    {
     "name": "stdout",
     "output_type": "stream",
     "text": [
      "                   all       1720       3999      0.895      0.826      0.883      0.634\n",
      "\n",
      "      Epoch    GPU_mem   box_loss   cls_loss   dfl_loss  Instances       Size\n"
     ]
    },
    {
     "name": "stderr",
     "output_type": "stream",
     "text": [
      "     41/300      1.66G      0.834     0.8244      1.133         19        384: 100%|██████████| 1011/1011 [02:48<00:00,  6.00it/s]\n",
      "                 Class     Images  Instances      Box(P          R      mAP50  mAP50-95): 100%|██████████| 215/215 [00:21<00:00, 10.21it/s]\n"
     ]
    },
    {
     "name": "stdout",
     "output_type": "stream",
     "text": [
      "                   all       1720       3999      0.896       0.83      0.886      0.641\n",
      "\n",
      "      Epoch    GPU_mem   box_loss   cls_loss   dfl_loss  Instances       Size\n"
     ]
    },
    {
     "name": "stderr",
     "output_type": "stream",
     "text": [
      "     42/300      1.66G     0.8346     0.8144      1.135         19        384: 100%|██████████| 1011/1011 [02:48<00:00,  5.99it/s]\n",
      "                 Class     Images  Instances      Box(P          R      mAP50  mAP50-95): 100%|██████████| 215/215 [00:21<00:00, 10.14it/s]\n"
     ]
    },
    {
     "name": "stdout",
     "output_type": "stream",
     "text": [
      "                   all       1720       3999      0.894      0.826      0.882      0.629\n",
      "\n",
      "      Epoch    GPU_mem   box_loss   cls_loss   dfl_loss  Instances       Size\n"
     ]
    },
    {
     "name": "stderr",
     "output_type": "stream",
     "text": [
      "     43/300      1.57G     0.8199     0.8066      1.126         19        384: 100%|██████████| 1011/1011 [02:48<00:00,  6.00it/s]\n",
      "                 Class     Images  Instances      Box(P          R      mAP50  mAP50-95): 100%|██████████| 215/215 [00:21<00:00, 10.13it/s]\n"
     ]
    },
    {
     "name": "stdout",
     "output_type": "stream",
     "text": [
      "                   all       1720       3999      0.901      0.825      0.886      0.618\n",
      "\n",
      "      Epoch    GPU_mem   box_loss   cls_loss   dfl_loss  Instances       Size\n"
     ]
    },
    {
     "name": "stderr",
     "output_type": "stream",
     "text": [
      "     44/300      1.66G     0.8367     0.8073      1.133         19        384: 100%|██████████| 1011/1011 [02:48<00:00,  6.01it/s]\n",
      "                 Class     Images  Instances      Box(P          R      mAP50  mAP50-95): 100%|██████████| 215/215 [00:20<00:00, 10.24it/s]\n"
     ]
    },
    {
     "name": "stdout",
     "output_type": "stream",
     "text": [
      "                   all       1720       3999      0.896       0.83      0.885      0.638\n",
      "\n",
      "      Epoch    GPU_mem   box_loss   cls_loss   dfl_loss  Instances       Size\n"
     ]
    },
    {
     "name": "stderr",
     "output_type": "stream",
     "text": [
      "     45/300      1.58G     0.8275      0.801      1.125         17        384: 100%|██████████| 1011/1011 [02:48<00:00,  6.00it/s]\n",
      "                 Class     Images  Instances      Box(P          R      mAP50  mAP50-95): 100%|██████████| 215/215 [00:21<00:00, 10.12it/s]\n"
     ]
    },
    {
     "name": "stdout",
     "output_type": "stream",
     "text": [
      "                   all       1720       3999      0.896      0.836      0.889      0.649\n",
      "\n",
      "      Epoch    GPU_mem   box_loss   cls_loss   dfl_loss  Instances       Size\n"
     ]
    },
    {
     "name": "stderr",
     "output_type": "stream",
     "text": [
      "     46/300      1.58G     0.8236     0.7912      1.125         19        384: 100%|██████████| 1011/1011 [02:48<00:00,  6.01it/s]\n",
      "                 Class     Images  Instances      Box(P          R      mAP50  mAP50-95): 100%|██████████| 215/215 [00:21<00:00, 10.15it/s]\n"
     ]
    },
    {
     "name": "stdout",
     "output_type": "stream",
     "text": [
      "                   all       1720       3999        0.9      0.834      0.889      0.653\n",
      "\n",
      "      Epoch    GPU_mem   box_loss   cls_loss   dfl_loss  Instances       Size\n"
     ]
    },
    {
     "name": "stderr",
     "output_type": "stream",
     "text": [
      "     47/300      1.58G     0.8112     0.7824       1.12         19        384: 100%|██████████| 1011/1011 [02:48<00:00,  6.02it/s]\n",
      "                 Class     Images  Instances      Box(P          R      mAP50  mAP50-95): 100%|██████████| 215/215 [00:21<00:00, 10.17it/s]\n"
     ]
    },
    {
     "name": "stdout",
     "output_type": "stream",
     "text": [
      "                   all       1720       3999      0.901      0.837      0.889      0.642\n",
      "\n",
      "      Epoch    GPU_mem   box_loss   cls_loss   dfl_loss  Instances       Size\n"
     ]
    },
    {
     "name": "stderr",
     "output_type": "stream",
     "text": [
      "     48/300      1.58G     0.8263     0.7822      1.121         18        384: 100%|██████████| 1011/1011 [02:48<00:00,  6.01it/s]\n",
      "                 Class     Images  Instances      Box(P          R      mAP50  mAP50-95): 100%|██████████| 215/215 [00:21<00:00, 10.16it/s]\n"
     ]
    },
    {
     "name": "stdout",
     "output_type": "stream",
     "text": [
      "                   all       1720       3999      0.901      0.828      0.887      0.645\n",
      "\n",
      "      Epoch    GPU_mem   box_loss   cls_loss   dfl_loss  Instances       Size\n"
     ]
    },
    {
     "name": "stderr",
     "output_type": "stream",
     "text": [
      "     49/300      1.66G     0.8205     0.7732      1.122         18        384: 100%|██████████| 1011/1011 [02:47<00:00,  6.02it/s]\n",
      "                 Class     Images  Instances      Box(P          R      mAP50  mAP50-95): 100%|██████████| 215/215 [00:21<00:00, 10.16it/s]\n"
     ]
    },
    {
     "name": "stdout",
     "output_type": "stream",
     "text": [
      "                   all       1720       3999      0.904      0.834      0.892       0.64\n",
      "\n",
      "      Epoch    GPU_mem   box_loss   cls_loss   dfl_loss  Instances       Size\n"
     ]
    },
    {
     "name": "stderr",
     "output_type": "stream",
     "text": [
      "     50/300      1.57G     0.8156     0.7715      1.118         19        384: 100%|██████████| 1011/1011 [02:48<00:00,  5.99it/s]\n",
      "                 Class     Images  Instances      Box(P          R      mAP50  mAP50-95): 100%|██████████| 215/215 [00:21<00:00, 10.12it/s]\n"
     ]
    },
    {
     "name": "stdout",
     "output_type": "stream",
     "text": [
      "                   all       1720       3999      0.903      0.833       0.89      0.638\n",
      "\n",
      "      Epoch    GPU_mem   box_loss   cls_loss   dfl_loss  Instances       Size\n"
     ]
    },
    {
     "name": "stderr",
     "output_type": "stream",
     "text": [
      "     51/300      1.66G     0.8061     0.7648      1.115         19        384: 100%|██████████| 1011/1011 [02:48<00:00,  6.00it/s]\n",
      "                 Class     Images  Instances      Box(P          R      mAP50  mAP50-95): 100%|██████████| 215/215 [00:21<00:00, 10.16it/s]\n"
     ]
    },
    {
     "name": "stdout",
     "output_type": "stream",
     "text": [
      "                   all       1720       3999      0.897       0.84       0.89      0.643\n",
      "\n",
      "      Epoch    GPU_mem   box_loss   cls_loss   dfl_loss  Instances       Size\n"
     ]
    },
    {
     "name": "stderr",
     "output_type": "stream",
     "text": [
      "     52/300      1.58G     0.8177     0.7672      1.114         19        384: 100%|██████████| 1011/1011 [02:48<00:00,  6.00it/s]\n",
      "                 Class     Images  Instances      Box(P          R      mAP50  mAP50-95): 100%|██████████| 215/215 [00:21<00:00, 10.19it/s]\n"
     ]
    },
    {
     "name": "stdout",
     "output_type": "stream",
     "text": [
      "                   all       1720       3999      0.886      0.844       0.89      0.654\n",
      "\n",
      "      Epoch    GPU_mem   box_loss   cls_loss   dfl_loss  Instances       Size\n"
     ]
    },
    {
     "name": "stderr",
     "output_type": "stream",
     "text": [
      "     53/300      1.58G     0.8007     0.7543      1.108         19        384: 100%|██████████| 1011/1011 [02:48<00:00,  6.01it/s]\n",
      "                 Class     Images  Instances      Box(P          R      mAP50  mAP50-95): 100%|██████████| 215/215 [00:21<00:00, 10.16it/s]\n"
     ]
    },
    {
     "name": "stdout",
     "output_type": "stream",
     "text": [
      "                   all       1720       3999      0.888      0.848      0.891       0.66\n",
      "\n",
      "      Epoch    GPU_mem   box_loss   cls_loss   dfl_loss  Instances       Size\n"
     ]
    },
    {
     "name": "stderr",
     "output_type": "stream",
     "text": [
      "     54/300      1.58G     0.8038     0.7501      1.112         18        384: 100%|██████████| 1011/1011 [02:48<00:00,  6.02it/s]\n",
      "                 Class     Images  Instances      Box(P          R      mAP50  mAP50-95): 100%|██████████| 215/215 [00:20<00:00, 10.31it/s]\n"
     ]
    },
    {
     "name": "stdout",
     "output_type": "stream",
     "text": [
      "                   all       1720       3999      0.889      0.848      0.892      0.648\n",
      "\n",
      "      Epoch    GPU_mem   box_loss   cls_loss   dfl_loss  Instances       Size\n"
     ]
    },
    {
     "name": "stderr",
     "output_type": "stream",
     "text": [
      "     55/300      1.66G     0.7949      0.744      1.107         19        384: 100%|██████████| 1011/1011 [02:48<00:00,  6.01it/s]\n",
      "                 Class     Images  Instances      Box(P          R      mAP50  mAP50-95): 100%|██████████| 215/215 [00:21<00:00, 10.18it/s]\n"
     ]
    },
    {
     "name": "stdout",
     "output_type": "stream",
     "text": [
      "                   all       1720       3999      0.899      0.839      0.891      0.639\n",
      "\n",
      "      Epoch    GPU_mem   box_loss   cls_loss   dfl_loss  Instances       Size\n"
     ]
    },
    {
     "name": "stderr",
     "output_type": "stream",
     "text": [
      "     56/300      1.57G     0.7934     0.7356      1.104         19        384: 100%|██████████| 1011/1011 [02:47<00:00,  6.02it/s]\n",
      "                 Class     Images  Instances      Box(P          R      mAP50  mAP50-95): 100%|██████████| 215/215 [00:21<00:00, 10.23it/s]\n"
     ]
    },
    {
     "name": "stdout",
     "output_type": "stream",
     "text": [
      "                   all       1720       3999      0.909      0.837      0.893      0.643\n",
      "\n",
      "      Epoch    GPU_mem   box_loss   cls_loss   dfl_loss  Instances       Size\n"
     ]
    },
    {
     "name": "stderr",
     "output_type": "stream",
     "text": [
      "     57/300      1.66G     0.7918     0.7375      1.102         19        384: 100%|██████████| 1011/1011 [02:47<00:00,  6.03it/s]\n",
      "                 Class     Images  Instances      Box(P          R      mAP50  mAP50-95): 100%|██████████| 215/215 [00:21<00:00, 10.23it/s]\n"
     ]
    },
    {
     "name": "stdout",
     "output_type": "stream",
     "text": [
      "                   all       1720       3999      0.898      0.841      0.894      0.647\n",
      "\n",
      "      Epoch    GPU_mem   box_loss   cls_loss   dfl_loss  Instances       Size\n"
     ]
    },
    {
     "name": "stderr",
     "output_type": "stream",
     "text": [
      "     58/300      1.58G       0.79     0.7349      1.105         19        384: 100%|██████████| 1011/1011 [02:47<00:00,  6.05it/s]\n",
      "                 Class     Images  Instances      Box(P          R      mAP50  mAP50-95): 100%|██████████| 215/215 [00:21<00:00, 10.21it/s]\n"
     ]
    },
    {
     "name": "stdout",
     "output_type": "stream",
     "text": [
      "                   all       1720       3999      0.902       0.84      0.893      0.654\n",
      "\n",
      "      Epoch    GPU_mem   box_loss   cls_loss   dfl_loss  Instances       Size\n"
     ]
    },
    {
     "name": "stderr",
     "output_type": "stream",
     "text": [
      "     59/300      1.57G      0.787     0.7232      1.097         19        384: 100%|██████████| 1011/1011 [02:47<00:00,  6.02it/s]\n",
      "                 Class     Images  Instances      Box(P          R      mAP50  mAP50-95): 100%|██████████| 215/215 [00:21<00:00, 10.15it/s]\n"
     ]
    },
    {
     "name": "stdout",
     "output_type": "stream",
     "text": [
      "                   all       1720       3999      0.901       0.84      0.893      0.649\n",
      "\n",
      "      Epoch    GPU_mem   box_loss   cls_loss   dfl_loss  Instances       Size\n"
     ]
    },
    {
     "name": "stderr",
     "output_type": "stream",
     "text": [
      "     60/300      1.57G     0.7984     0.7289      1.107         19        384: 100%|██████████| 1011/1011 [02:47<00:00,  6.03it/s]\n",
      "                 Class     Images  Instances      Box(P          R      mAP50  mAP50-95): 100%|██████████| 215/215 [00:21<00:00, 10.23it/s]\n"
     ]
    },
    {
     "name": "stdout",
     "output_type": "stream",
     "text": [
      "                   all       1720       3999      0.895      0.849      0.894       0.66\n",
      "\n",
      "      Epoch    GPU_mem   box_loss   cls_loss   dfl_loss  Instances       Size\n"
     ]
    },
    {
     "name": "stderr",
     "output_type": "stream",
     "text": [
      "     61/300      1.66G     0.7841     0.7198      1.092         19        384: 100%|██████████| 1011/1011 [02:48<00:00,  6.02it/s]\n",
      "                 Class     Images  Instances      Box(P          R      mAP50  mAP50-95): 100%|██████████| 215/215 [00:21<00:00, 10.18it/s]\n"
     ]
    },
    {
     "name": "stdout",
     "output_type": "stream",
     "text": [
      "                   all       1720       3999      0.892      0.848      0.892       0.66\n",
      "\n",
      "      Epoch    GPU_mem   box_loss   cls_loss   dfl_loss  Instances       Size\n"
     ]
    },
    {
     "name": "stderr",
     "output_type": "stream",
     "text": [
      "     62/300      1.66G     0.7704     0.7124      1.088         19        384: 100%|██████████| 1011/1011 [02:47<00:00,  6.04it/s]\n",
      "                 Class     Images  Instances      Box(P          R      mAP50  mAP50-95): 100%|██████████| 215/215 [00:20<00:00, 10.27it/s]\n"
     ]
    },
    {
     "name": "stdout",
     "output_type": "stream",
     "text": [
      "                   all       1720       3999      0.902      0.844      0.893      0.659\n",
      "\n",
      "      Epoch    GPU_mem   box_loss   cls_loss   dfl_loss  Instances       Size\n"
     ]
    },
    {
     "name": "stderr",
     "output_type": "stream",
     "text": [
      "     63/300      1.58G     0.7757     0.7108      1.093         19        384: 100%|██████████| 1011/1011 [02:47<00:00,  6.02it/s]\n",
      "                 Class     Images  Instances      Box(P          R      mAP50  mAP50-95): 100%|██████████| 215/215 [00:21<00:00, 10.19it/s]\n"
     ]
    },
    {
     "name": "stdout",
     "output_type": "stream",
     "text": [
      "                   all       1720       3999      0.902      0.842      0.892      0.648\n",
      "\u001b[34m\u001b[1mEarlyStopping: \u001b[0mTraining stopped early as no improvement observed in last 10 epochs. Best results observed at epoch 53, best model saved as best.pt.\n",
      "To update EarlyStopping(patience=10) pass a new patience value, i.e. `patience=300` or use `patience=0` to disable EarlyStopping.\n",
      "\n",
      "63 epochs completed in 3.335 hours.\n",
      "Optimizer stripped from results/yolov11n_v1_ep300_img640_bs4_lr1e-05_lrf0.01_Adam_augmented_20250528_2232/weights/last.pt, 5.4MB\n",
      "Optimizer stripped from results/yolov11n_v1_ep300_img640_bs4_lr1e-05_lrf0.01_Adam_augmented_20250528_2232/weights/best.pt, 5.4MB\n",
      "\n",
      "Validating results/yolov11n_v1_ep300_img640_bs4_lr1e-05_lrf0.01_Adam_augmented_20250528_2232/weights/best.pt...\n",
      "Ultralytics 8.3.141 🚀 Python-3.10.12 torch-2.7.0+cu126 CUDA:0 (NVIDIA GeForce MX550, 1864MiB)\n",
      "YOLO11n summary (fused): 100 layers, 2,582,542 parameters, 0 gradients, 6.3 GFLOPs\n"
     ]
    },
    {
     "name": "stderr",
     "output_type": "stream",
     "text": [
      "                 Class     Images  Instances      Box(P          R      mAP50  mAP50-95): 100%|██████████| 215/215 [00:18<00:00, 11.42it/s]\n"
     ]
    },
    {
     "name": "stdout",
     "output_type": "stream",
     "text": [
      "                   all       1720       3999      0.896      0.849      0.894       0.66\n",
      "                person       1355       2841      0.808      0.718      0.796      0.478\n",
      "                teleco        644       1158      0.984      0.979      0.992      0.842\n",
      "Speed: 0.4ms preprocess, 8.6ms inference, 0.0ms loss, 0.6ms postprocess per image\n",
      "Results saved to \u001b[1mresults/yolov11n_v1_ep300_img640_bs4_lr1e-05_lrf0.01_Adam_augmented_20250528_2232\u001b[0m\n",
      "✅ Trained checkpoint saved to: results/yolov11n_v1_ep300_img640_bs4_lr1e-05_lrf0.01_Adam_augmented_20250528_2232/weights/best.pt\n"
     ]
    }
   ],
   "source": [
    "# YOLOv11 Training Script with Full Parameter Explanations and Improved Stability\n",
    "\n",
    "from ultralytics import YOLO\n",
    "import os\n",
    "from datetime import datetime\n",
    "\n",
    "# --- Model Setup ---\n",
    "# Load a pretrained YOLOv8n model (nano version: fastest, smallest, good for limited data or edge devices)\n",
    "model = YOLO('../src/human_detector/models/yolov11s.pt')\n",
    "# To resume training from a previous checkpoint:\n",
    "# model = YOLO('/path/to/your/best.pt')\n",
    "\n",
    "# --- Training Configuration ---\n",
    "epochs = 300               # Number of times the model sees the entire dataset\n",
    "imgsz = 640                # Size to which all images are resized (square). 640 is a good trade-off between speed and accuracy\n",
    "batch_size = 4             # Number of images used in one forward/backward pass (small for limited VRAM)\n",
    "\n",
    "lr0 = 1e-5                 # Initial learning rate (controls how much the model updates each step)\n",
    "lrf = 0.01                 # Final learning rate = lr0 * lrf, used with cosine decay learning schedule\n",
    "optimizer = \"Adam\"          # Optimizer algorithm: 'SGD' is more stable for small datasets, 'AdamW' (default) adapts better to large, noisy datasets\n",
    "# warmup_epochs = 3          # Number of epochs to slowly ramp up learning rate to avoid instability at start\n",
    "dropout = 0.1              # Dropout rate (randomly turns off neurons during training to prevent overfitting)\n",
    "\n",
    "# --- Experiment Folder Naming ---\n",
    "time_stamp = datetime.now().strftime(\"%Y%m%d_%H%M\")\n",
    "\n",
    "exp_name = (\n",
    "    f\"yolov11s_v1_\"         # Model name and version. You can use this to identify custom model variants.\n",
    "    f\"ep{epochs}_\"          # Number of epochs (e.g., ep300 means trained for 300 full dataset passes)\n",
    "    f\"img{imgsz}_\"          # Image input size (e.g., img640 means all images resized to 640x640)\n",
    "    f\"bs{batch_size}_\"      # Batch size (e.g., bs4 means 4 images processed per training step)\n",
    "    f\"lr{lr0}_\"             # Initial learning rate (e.g., lr0.0001)\n",
    "    f\"lrf{lrf}_\"            # Final learning rate factor (e.g., lrf0.01 → lr drops to 0.000001 at end)\n",
    "    f\"{optimizer}_\"         # Optimizer used (e.g., SGD, AdamW, etc.)\n",
    "    f\"augmented_\"            # Tag for augmentation setup (e.g., Final or custom profile name)\n",
    "    f\"{time_stamp}\"         # Timestamp for uniqueness and chronological sorting\n",
    ")\n",
    "\n",
    "# --- Training Start ---\n",
    "results = model.train(\n",
    "    seed=42,                     # Random seed for reproducibility\n",
    "    data='data.yaml',            # Path to data config file (defines class names and image paths)\n",
    "    epochs=epochs,               # Total number of training epochs\n",
    "    patience=10,                 # Early stopping: if val loss doesn't improve for 10 epochs, stop training\n",
    "    dropout=dropout,             # Helps prevent overfitting by randomly disabling neurons\n",
    "    imgsz=imgsz,                 # Resizes all images to this square dimension\n",
    "    batch=batch_size,            # Number of images per training batch\n",
    "    lr0=lr0,                     # Starting learning rate\n",
    "    lrf=lrf,                     # Final learning rate multiplier\n",
    "    # warmup_epochs=warmup_epochs,# Smooth ramp-up of LR to avoid unstable gradients\n",
    "    optimizer=optimizer,         # Optimizer choice: SGD recommended for small datasets\n",
    "    device=0,                    # GPU device ID (0 = first GPU)\n",
    "    half=True,                   # Use float16 precision if supported (faster training)\n",
    "    workers=2,                   # Number of CPU workers for data loading (adjust based on CPU)\n",
    "    cache=True,                  # Preload and cache images in memory for faster epoch execution\n",
    "    rect=True,                   # Enables rectangular training for better image aspect ratio handling\n",
    "    verbose=True,                # Print detailed training logs for every batch\n",
    "    amp=False ,\n",
    "    # exist_ok=True,               # Overwrites existing output folder if it already exists\n",
    "\n",
    "    # --- Data Augmentation (tuned for small datasets) ---\n",
    "    hsv_h=0.015,                 # Hue variation (color tint)\n",
    "    hsv_s=0.7,                   # Saturation variation (color strength)\n",
    "    hsv_v=0.4,                   # Brightness variation\n",
    "    translate=0.05,              # Random image shift (reduced for safety)\n",
    "    scale=0.1,                   # Random zoom in/out (less aggressive)\n",
    "    fliplr=0.5,                  # 50% chance to flip images horizontally\n",
    "    mosaic=0.2,                  # Combines 4 training images into one\n",
    "    mixup=0.03,                  # Blends two images and labels\n",
    "    copy_paste=0.03,             # Copies object from one image and pastes onto another\n",
    "    perspective=0.001,           # Small perspective distortion to improve robustness\n",
    "\n",
    "    # --- Output Settings ---\n",
    "    project='results',           # Base directory to store training logs and weights\n",
    "    name=exp_name                # Subfolder name under project/ to store this run’s output\n",
    ")\n",
    "\n",
    "# --- Save Path Display ---\n",
    "save_dir = str(results.save_dir)\n",
    "best_pt = os.path.join(save_dir, 'weights', 'best.pt')\n",
    "print(f\"✅ Trained checkpoint saved to: {best_pt}\")\n"
   ]
  },
  {
   "cell_type": "markdown",
   "id": "c8bb40d1",
   "metadata": {},
   "source": [
    "# 🧠 YOLOv8 Training Metrics Cheatsheet\n",
    "\n",
    "## 🔢 Loss Curves\n",
    "\n",
    "| Metric            | Meaning                                                | Goal / Good Trend                |\n",
    "|-------------------|--------------------------------------------------------|----------------------------------|\n",
    "| `train/box_loss`  | Bounding box regression loss (training)                | ↓ Steady decline                 |\n",
    "| `train/cls_loss`  | Classification loss (training)                         | ↓ Should fall and stabilize     |\n",
    "| `train/dfl_loss`  | Distribution Focal Loss (for bounding box quality)     | ↓ Smooth drop                   |\n",
    "| `val/box_loss`    | Box loss on validation set                             | ↓ Best indicator of generalization |\n",
    "| `val/cls_loss`    | Classification loss on validation                      | ↓ Falling → Good model fit      |\n",
    "| `val/dfl_loss`    | DFL loss on validation                                 | ↓ Matches train trend = no overfit |\n",
    "\n",
    "---\n",
    "\n",
    "## 📈 Detection Metrics\n",
    "\n",
    "| Metric                | Description                                                 | Goal / Interpretation           |\n",
    "|------------------------|-------------------------------------------------------------|----------------------------------|\n",
    "| `metrics/precision(B)` | % of correct detections out of all predictions              | ↑ High = few false positives     |\n",
    "| `metrics/recall(B)`    | % of actual objects detected                                | ↑ High = few missed detections   |\n",
    "| `metrics/mAP50(B)`     | Accuracy of boxes at 50% IoU threshold                     | ↑ Main object detection metric   |\n",
    "| `metrics/mAP50-95(B)`  | Average mAP over IoU 0.5 to 0.95 (stricter)                | ↑ Robust performance measure     |\n",
    "\n",
    "---\n",
    "\n",
    "## 🧪 Ideal Curve Patterns\n",
    "\n",
    "- **Losses**: should steadily decrease.\n",
    "- **Validation loss** rising while training loss decreases → possible **overfitting**.\n",
    "- **Precision & Recall**: should increase and plateau near 1.0.\n",
    "- **mAP**: aim for **>0.90 mAP50** and **>0.80 mAP50-95** for high-quality results.\n",
    "\n",
    "---\n",
    "\n",
    "## ⚠️ Tips\n",
    "\n",
    "- 🧊 Use `half=True` for mixed precision training on supported GPUs.\n",
    "- 🧠 Watch `val/box_loss` and `mAP50-95` to catch overfitting early.\n",
    "- 🧪 If metrics plateau early, try increasing `epochs`, `imgsz`, or improving labels.\n",
    "- 💾 Check `runs/train/.../results.png` for curve visualization.\n",
    "\n",
    "---\n"
   ]
  }
 ],
 "metadata": {
  "kernelspec": {
   "display_name": "Python 3",
   "language": "python",
   "name": "python3"
  },
  "language_info": {
   "codemirror_mode": {
    "name": "ipython",
    "version": 3
   },
   "file_extension": ".py",
   "mimetype": "text/x-python",
   "name": "python",
   "nbconvert_exporter": "python",
   "pygments_lexer": "ipython3",
   "version": "3.10.12"
  }
 },
 "nbformat": 4,
 "nbformat_minor": 5
}
