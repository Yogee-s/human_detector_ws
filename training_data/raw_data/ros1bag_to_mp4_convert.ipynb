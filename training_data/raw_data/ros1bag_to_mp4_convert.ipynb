{
 "cells": [
  {
   "cell_type": "markdown",
   "id": "3e0e27d6",
   "metadata": {},
   "source": [
    "# # Convert RealSense .bag → MP4"
   ]
  },
  {
   "cell_type": "code",
   "execution_count": null,
   "id": "e6c250cd",
   "metadata": {},
   "outputs": [],
   "source": [
    "import numpy as np\n",
    "import pyrealsense2 as rs\n",
    "import cv2\n",
    "\n",
    "def bag_to_mp4(bag_path: str, out_path: str, fps: float = 30.0):\n",
    "    \"\"\"\n",
    "    Read a RealSense .bag file and write out a color-only MP4.\n",
    "    \"\"\"\n",
    "    pipeline = rs.pipeline()\n",
    "    cfg = rs.config()\n",
    "    cfg.enable_device_from_file(bag_path, repeat_playback=False)\n",
    "    profile = pipeline.start(cfg)\n",
    "\n",
    "    # get color stream resolution\n",
    "    color_stream = profile.get_stream(rs.stream.color).as_video_stream_profile()\n",
    "    w, h = color_stream.width(), color_stream.height()\n",
    "\n",
    "    # set up VideoWriter (mp4v codec)\n",
    "    fourcc = cv2.VideoWriter_fourcc(*'mp4v')\n",
    "    writer = cv2.VideoWriter(out_path, fourcc, fps, (w, h))\n",
    "\n",
    "    try:\n",
    "        while True:\n",
    "            frames = pipeline.wait_for_frames()\n",
    "            color = frames.get_color_frame()\n",
    "            if not color:\n",
    "                continue\n",
    "            # convert to numpy array (RGB)\n",
    "            img_rgb = np.asanyarray(color.get_data())\n",
    "            # convert RGB→BGR for correct colors in OpenCV\n",
    "            img_bgr = cv2.cvtColor(img_rgb, cv2.COLOR_RGB2BGR)\n",
    "            writer.write(img_bgr)\n",
    "    except RuntimeError:\n",
    "        # bag playback ended\n",
    "        pass\n",
    "    finally:\n",
    "        writer.release()\n",
    "        pipeline.stop()\n",
    "        print(f\"✅ Wrote {out_path}\")\n",
    "\n"
   ]
  },
  {
   "cell_type": "markdown",
   "id": "e6d49f40",
   "metadata": {},
   "source": [
    "# Run conversion"
   ]
  },
  {
   "cell_type": "code",
   "execution_count": 2,
   "id": "eeea2c0b",
   "metadata": {},
   "outputs": [
    {
     "name": "stdout",
     "output_type": "stream",
     "text": [
      "✅ Wrote /home/yogee/Desktop/human_detector_ws/training_data/raw_data/video1.mp4\n"
     ]
    }
   ],
   "source": [
    "bag_to_mp4(bag_file, output_mp4, fps)"
   ]
  }
 ],
 "metadata": {
  "kernelspec": {
   "display_name": "Python 3",
   "language": "python",
   "name": "python3"
  },
  "language_info": {
   "codemirror_mode": {
    "name": "ipython",
    "version": 3
   },
   "file_extension": ".py",
   "mimetype": "text/x-python",
   "name": "python",
   "nbconvert_exporter": "python",
   "pygments_lexer": "ipython3",
   "version": "3.10.12"
  }
 },
 "nbformat": 4,
 "nbformat_minor": 5
}
